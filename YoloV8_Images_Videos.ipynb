{
  "nbformat": 4,
  "nbformat_minor": 0,
  "metadata": {
    "colab": {
      "provenance": []
    },
    "kernelspec": {
      "name": "python3",
      "display_name": "Python 3"
    },
    "language_info": {
      "name": "python"
    },
    "accelerator": "GPU",
    "gpuClass": "standard"
  },
  "cells": [
    {
      "cell_type": "code",
      "source": [
        "!nvidia-smi"
      ],
      "metadata": {
        "id": "aOe3wemaKH-v"
      },
      "execution_count": null,
      "outputs": []
    },
    {
      "cell_type": "code",
      "source": [
        "!git clone https://github.com/ultralytics/ultralytics.git\n",
        "%cd /content/ultralytics\n",
        "!pip install -r requirements.txt"
      ],
      "metadata": {
        "id": "fMxsHpLNuuzY"
      },
      "execution_count": null,
      "outputs": []
    },
    {
      "cell_type": "code",
      "source": [
        "!pip install ultralytics"
      ],
      "metadata": {
        "id": "dP_l8yZp7534"
      },
      "execution_count": null,
      "outputs": []
    },
    {
      "cell_type": "code",
      "source": [
        "from ultralytics import YOLO"
      ],
      "metadata": {
        "id": "1c83rtEy8Pq5"
      },
      "execution_count": null,
      "outputs": []
    },
    {
      "cell_type": "markdown",
      "source": [
        "##On Images"
      ],
      "metadata": {
        "id": "PWj8tw4i2Bjf"
      }
    },
    {
      "cell_type": "code",
      "source": [
        "!yolo task=detect mode=predict model=yolov8l.pt conf=0.25 source=\"road.jpg\" save=True"
      ],
      "metadata": {
        "id": "FxiNctfC83-v"
      },
      "execution_count": null,
      "outputs": []
    },
    {
      "cell_type": "code",
      "source": [
        "from IPython.display import Image\n",
        "Image('/content/ultralytics/runs/detect/predict6/road.jpg')"
      ],
      "metadata": {
        "id": "wW8Au7k24pVt"
      },
      "execution_count": null,
      "outputs": []
    },
    {
      "cell_type": "markdown",
      "source": [
        "##On Videos"
      ],
      "metadata": {
        "id": "A1f0XccT2Dyy"
      }
    },
    {
      "cell_type": "code",
      "source": [
        "#detect way\n",
        "!yolo task=detect mode=predict model=yolov8l.pt conf=0.25 source=\"dogs.mp4\" save=True\n",
        "\n",
        "#segment way\n",
        "!yolo task=detect mode=predict conf=0.25 source=\"dogs.mp4\" save=True"
      ],
      "metadata": {
        "id": "nVvgcy1c2I-B"
      },
      "execution_count": null,
      "outputs": []
    },
    {
      "cell_type": "markdown",
      "source": [
        "##Video Detect"
      ],
      "metadata": {
        "id": "mEaoQAPI3ffS"
      }
    },
    {
      "cell_type": "code",
      "source": [
        "from IPython.display import HTML\n",
        "from base64 import b64encode\n",
        "import os\n",
        "\n",
        "# Input video path\n",
        "save_path = '/content/ultralytics/runs/detect/predict4/dogs.mp4'\n",
        "\n",
        "# Compressed video path\n",
        "compressed_path = \"/content/compressed_detect.mp4\"\n",
        "\n",
        "os.system(f\"ffmpeg -i {save_path} -vcodec libx264 {compressed_path}\")\n",
        "\n",
        "# Show video\n",
        "mp4 = open(compressed_path,'rb').read()\n",
        "data_url = \"data:video/mp4;base64,\" + b64encode(mp4).decode()\n",
        "HTML(\"\"\"\n",
        "<video width=500 controls>\n",
        "      <source src=\"%s\" type=\"video/mp4\">\n",
        "</video>\n",
        "\"\"\" % data_url)"
      ],
      "metadata": {
        "id": "thtJUTZlvCeZ"
      },
      "execution_count": null,
      "outputs": []
    },
    {
      "cell_type": "markdown",
      "source": [
        "##Video Segment"
      ],
      "metadata": {
        "id": "80zVCzTR3YwS"
      }
    },
    {
      "cell_type": "code",
      "source": [
        "from IPython.display import HTML\n",
        "from base64 import b64encode\n",
        "import os\n",
        "\n",
        "# Input video path\n",
        "save_path = '/content/ultralytics/runs/segment/predict/dogs.mp4'\n",
        "\n",
        "# Compressed video path\n",
        "compressed_path = \"/content/compressed_segment.mp4\"\n",
        "\n",
        "os.system(f\"ffmpeg -i {save_path} -vcodec libx264 {compressed_path}\")\n",
        "\n",
        "# Show video\n",
        "mp4 = open(compressed_path,'rb').read()\n",
        "data_url = \"data:video/mp4;base64,\" + b64encode(mp4).decode()\n",
        "HTML(\"\"\"\n",
        "<video width=500 controls>\n",
        "      <source src=\"%s\" type=\"video/mp4\">\n",
        "</video>\n",
        "\"\"\" % data_url)"
      ],
      "metadata": {
        "id": "5-ujiIie3XzQ"
      },
      "execution_count": null,
      "outputs": []
    }
  ]
}